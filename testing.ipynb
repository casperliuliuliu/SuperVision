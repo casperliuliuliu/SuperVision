{
 "cells": [
  {
   "cell_type": "code",
   "execution_count": 10,
   "metadata": {},
   "outputs": [],
   "source": [
    "def format_number(num):\n",
    "    if num >= 1e12:\n",
    "        return f\"{num/1e12:.0f} T\"\n",
    "    elif num >= 1e9:  # Check if the number is in billions\n",
    "        return f\"{num/1e9:.0f} B\"\n",
    "    elif num >= 1e6:  # Check if the number is in millions\n",
    "        return f\"{num/1e6:.0f} M\"\n",
    "    elif num >= 1e3:  # Check if the number is in thousands\n",
    "        return f\"{num/1e3:.0f} K\"\n",
    "    else:  # If the number is less than 1000\n",
    "        return str(num)"
   ]
  },
  {
   "cell_type": "code",
   "execution_count": 12,
   "metadata": {},
   "outputs": [
    {
     "name": "stdout",
     "output_type": "stream",
     "text": [
      "999\n",
      "365 M\n",
      "3651 T\n"
     ]
    }
   ],
   "source": [
    "print(format_number(999))   # Output: 12K\n",
    "print(format_number(365123456))  # Output: 365M\n",
    "print(format_number(3651234567891011))  # Output: 365M\n"
   ]
  },
  {
   "cell_type": "code",
   "execution_count": 2,
   "metadata": {},
   "outputs": [
    {
     "ename": "IndexError",
     "evalue": "list index out of range",
     "output_type": "error",
     "traceback": [
      "\u001b[1;31m---------------------------------------------------------------------------\u001b[0m",
      "\u001b[1;31mIndexError\u001b[0m                                Traceback (most recent call last)",
      "Cell \u001b[1;32mIn[2], line 33\u001b[0m\n\u001b[0;32m     31\u001b[0m \u001b[38;5;66;03m# selected_folders = ['folder1', 'folder2']  # List the folders you want to include\u001b[39;00m\n\u001b[0;32m     32\u001b[0m classes_to_drop \u001b[38;5;241m=\u001b[39m [\u001b[38;5;124m'\u001b[39m\u001b[38;5;124mcane\u001b[39m\u001b[38;5;124m'\u001b[39m, \u001b[38;5;124m'\u001b[39m\u001b[38;5;124mgatto\u001b[39m\u001b[38;5;124m'\u001b[39m]  \u001b[38;5;66;03m# List the classes you want to drop\u001b[39;00m\n\u001b[1;32m---> 33\u001b[0m dataset \u001b[38;5;241m=\u001b[39m \u001b[43mload_dataset_with_classes_to_drop\u001b[49m\u001b[43m(\u001b[49m\u001b[43mroot_dir\u001b[49m\u001b[43m,\u001b[49m\u001b[43m \u001b[49m\u001b[43mclasses_to_drop\u001b[49m\u001b[43m)\u001b[49m\n",
      "Cell \u001b[1;32mIn[2], line 25\u001b[0m, in \u001b[0;36mload_dataset_with_classes_to_drop\u001b[1;34m(root_dir, classes_to_drop)\u001b[0m\n\u001b[0;32m     22\u001b[0m dataset\u001b[38;5;241m.\u001b[39mclasses \u001b[38;5;241m=\u001b[39m \u001b[38;5;28mlist\u001b[39m(dataset\u001b[38;5;241m.\u001b[39mclass_to_idx\u001b[38;5;241m.\u001b[39mkeys())\n\u001b[0;32m     24\u001b[0m \u001b[38;5;66;03m# Update the labels in samples to ensure they match the new class_to_idx\u001b[39;00m\n\u001b[1;32m---> 25\u001b[0m dataset\u001b[38;5;241m.\u001b[39msamples \u001b[38;5;241m=\u001b[39m [(image, dataset\u001b[38;5;241m.\u001b[39mclass_to_idx[dataset\u001b[38;5;241m.\u001b[39mclasses[label]]) \u001b[38;5;28;01mfor\u001b[39;00m image, label \u001b[38;5;129;01min\u001b[39;00m dataset\u001b[38;5;241m.\u001b[39msamples]\n\u001b[0;32m     27\u001b[0m \u001b[38;5;28;01mreturn\u001b[39;00m dataset\n",
      "Cell \u001b[1;32mIn[2], line 25\u001b[0m, in \u001b[0;36m<listcomp>\u001b[1;34m(.0)\u001b[0m\n\u001b[0;32m     22\u001b[0m dataset\u001b[38;5;241m.\u001b[39mclasses \u001b[38;5;241m=\u001b[39m \u001b[38;5;28mlist\u001b[39m(dataset\u001b[38;5;241m.\u001b[39mclass_to_idx\u001b[38;5;241m.\u001b[39mkeys())\n\u001b[0;32m     24\u001b[0m \u001b[38;5;66;03m# Update the labels in samples to ensure they match the new class_to_idx\u001b[39;00m\n\u001b[1;32m---> 25\u001b[0m dataset\u001b[38;5;241m.\u001b[39msamples \u001b[38;5;241m=\u001b[39m [(image, dataset\u001b[38;5;241m.\u001b[39mclass_to_idx[\u001b[43mdataset\u001b[49m\u001b[38;5;241;43m.\u001b[39;49m\u001b[43mclasses\u001b[49m\u001b[43m[\u001b[49m\u001b[43mlabel\u001b[49m\u001b[43m]\u001b[49m]) \u001b[38;5;28;01mfor\u001b[39;00m image, label \u001b[38;5;129;01min\u001b[39;00m dataset\u001b[38;5;241m.\u001b[39msamples]\n\u001b[0;32m     27\u001b[0m \u001b[38;5;28;01mreturn\u001b[39;00m dataset\n",
      "\u001b[1;31mIndexError\u001b[0m: list index out of range"
     ]
    }
   ],
   "source": [
    "import os\n",
    "import torch\n",
    "from torchvision import datasets, transforms\n",
    "\n",
    "def load_dataset_with_classes_to_drop(root_dir, classes_to_drop):\n",
    "    # Define transforms\n",
    "    transform = transforms.Compose([\n",
    "        transforms.Resize((256, 256)),\n",
    "        transforms.ToTensor(),\n",
    "    ])\n",
    "\n",
    "    # Load the dataset\n",
    "    dataset = datasets.ImageFolder(root=root_dir, transform=transform)\n",
    "\n",
    "    # Filter out samples of classes to drop\n",
    "    dataset.samples = [(image, label) for image, label in dataset.samples \n",
    "                       if dataset.classes[label] not in classes_to_drop]\n",
    "\n",
    "    # Update class_to_idx and classes to reflect the removal of classes\n",
    "    dataset.class_to_idx = {cls_name: idx for cls_name, idx in dataset.class_to_idx.items() \n",
    "                            if cls_name not in classes_to_drop}\n",
    "    dataset.classes = list(dataset.class_to_idx.keys())\n",
    "\n",
    "    # Update the labels in samples to ensure they match the new class_to_idx\n",
    "    dataset.samples = [(image, dataset.class_to_idx[dataset.classes[label]]) for image, label in dataset.samples]\n",
    "\n",
    "    return dataset\n",
    "\n",
    "# Example usage\n",
    "root_dir = 'D:/Casper/Data/Animals-10/raw-img'\n",
    "# selected_folders = ['folder1', 'folder2']  # List the folders you want to include\n",
    "classes_to_drop = ['cane', 'gatto']  # List the classes you want to drop\n",
    "dataset = load_dataset_with_classes_to_drop(root_dir, classes_to_drop)\n",
    "\n"
   ]
  }
 ],
 "metadata": {
  "kernelspec": {
   "display_name": "GPU",
   "language": "python",
   "name": "python3"
  },
  "language_info": {
   "codemirror_mode": {
    "name": "ipython",
    "version": 3
   },
   "file_extension": ".py",
   "mimetype": "text/x-python",
   "name": "python",
   "nbconvert_exporter": "python",
   "pygments_lexer": "ipython3",
   "version": "3.10.12"
  }
 },
 "nbformat": 4,
 "nbformat_minor": 2
}

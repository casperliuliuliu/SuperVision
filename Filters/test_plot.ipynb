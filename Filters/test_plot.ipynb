{
 "cells": [
  {
   "cell_type": "code",
   "execution_count": null,
   "metadata": {},
   "outputs": [],
   "source": [
    "import sys\n",
    "\n",
    "desired_path = \"D:/Casper/\"\n",
    "sys.path.append(desired_path)\n",
    "from my_config import get_config\n",
    "\n",
    "from edge_detection import *\n",
    "from image_processing import *\n",
    "from basics import *\n",
    "from fourier import *\n",
    "from testing import test_filters, test_fourier\n",
    "\n",
    "    \n",
    "config = get_config()\n",
    "folder_path = config['Chill_norman']\n",
    "filename = folder_path + \"norman1.jpg\"\n",
    "height, width = None, 256\n",
    "img = read_image(filename, height, width)\n",
    "result = test_filters(img)"
   ]
  },
  {
   "cell_type": "code",
   "execution_count": null,
   "metadata": {},
   "outputs": [],
   "source": []
  }
 ],
 "metadata": {
  "kernelspec": {
   "display_name": "GPU",
   "language": "python",
   "name": "python3"
  },
  "language_info": {
   "codemirror_mode": {
    "name": "ipython",
    "version": 3
   },
   "file_extension": ".py",
   "mimetype": "text/x-python",
   "name": "python",
   "nbconvert_exporter": "python",
   "pygments_lexer": "ipython3",
   "version": "3.10.12"
  }
 },
 "nbformat": 4,
 "nbformat_minor": 2
}
